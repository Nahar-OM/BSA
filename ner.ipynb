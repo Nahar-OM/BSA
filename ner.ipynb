{
 "cells": [
  {
   "cell_type": "code",
   "execution_count": 32,
   "metadata": {},
   "outputs": [],
   "source": [
    "import spacy\n",
    "from spacy.training import Example\n",
    "\n",
    "# Load English tokenizer, tagger, parser, and NER\n",
    "# Create a new blank English model\n",
    "nlp = spacy.blank(\"en\")\n",
    "\n",
    "# Add the NER pipeline component to the blank model\n",
    "ner = nlp.add_pipe(\"ner\")"
   ]
  },
  {
   "cell_type": "code",
   "execution_count": 31,
   "metadata": {},
   "outputs": [
    {
     "name": "stdout",
     "output_type": "stream",
     "text": [
      "{'ner': 18.837906578746566}\n",
      "{'ner': 18.966169102459208}\n",
      "{'ner': 10.68156114730256}\n",
      "{'ner': 16.186866608683307}\n",
      "{'ner': 8.656663141091348}\n",
      "{'ner': 10.84857808815708}\n",
      "{'ner': 8.624519152545513}\n",
      "{'ner': 10.429577002301448}\n",
      "{'ner': 11.313666459882821}\n",
      "{'ner': 14.087052674760411}\n",
      "union bank of\n",
      "union bank of BANK\n",
      "union bank of\n",
      "union bank of BANK\n"
     ]
    }
   ],
   "source": [
    "def read_training_data(description_file, labeled_description_file):\n",
    "    with open(description_file, \"r\", encoding=\"utf-8\") as file:\n",
    "        descriptions = file.readlines()\n",
    "    with open(labeled_description_file, \"r\", encoding=\"utf-8\") as file:\n",
    "        labeled_descriptions = file.readlines()\n",
    "    return [line.strip() for line in descriptions], [line.strip() for line in labeled_descriptions]\n",
    "\n",
    "# Process training data to extract descriptions and entities\n",
    "def process_training_data(descriptions, labeled_descriptions):\n",
    "    TRAIN_DATA = []\n",
    "    for desc, labeled_desc in zip(descriptions, labeled_descriptions):\n",
    "        if \"\\\"\" in labeled_desc:\n",
    "            entity_info = labeled_desc.split(\"\\\"\")\n",
    "            entity_name = entity_info[1].strip()\n",
    "            entity_type = entity_info[2].split(\" - \")[1]\n",
    "            start = desc.find(entity_name)\n",
    "            end = start + len(entity_name)\n",
    "            TRAIN_DATA.append((desc, {\"entities\": [(start, end, \"ENTITY\")]}))\n",
    "    return TRAIN_DATA\n",
    "\n",
    "# Define file paths\n",
    "description_file = r\"C:\\Users\\Lenovo\\OneDrive\\Desktop\\Folders\\NaharOm\\BSA\\Main_Project\\ner_train_input.txt\"\n",
    "labeled_description_file = r\"C:\\Users\\Lenovo\\OneDrive\\Desktop\\Folders\\NaharOm\\BSA\\Main_Project\\ner_train_label.txt\"\n",
    "\n",
    "# Load training data\n",
    "descriptions, labeled_descriptions = read_training_data(description_file, labeled_description_file)\n",
    "TRAIN_DATA = process_training_data(descriptions, labeled_descriptions)\n",
    "\n",
    "# Define the pipeline components\n",
    "ner = nlp.get_pipe(\"ner\")\n",
    "\n",
    "# Add new entity labels to the pipeline\n",
    "ner.add_label(\"ENTITY\")\n",
    "\n",
    "# Disable other pipeline components to only train NER\n",
    "other_pipes = [pipe for pipe in nlp.pipe_names if pipe != \"ner\"]\n",
    "\n",
    "# Training the NER model\n",
    "with nlp.disable_pipes(*other_pipes):\n",
    "    optimizer = nlp.create_optimizer()\n",
    "    for itn in range(10):\n",
    "        losses = {}\n",
    "        for text, annotations in TRAIN_DATA:\n",
    "            doc = nlp.make_doc(text)\n",
    "            example = Example.from_dict(doc, annotations)\n",
    "            nlp.update([example], drop=0.5, sgd=optimizer, losses=losses)            \n",
    "        print(losses)\n",
    "\n",
    "# Save the trained model\n",
    "nlp.to_disk(\"ner_model\")\n",
    "\n",
    "# Test the trained model\n",
    "test_text = \"chq paid micr inward clearing  sumit loomba s o sh vire union bank of india  ubi  union bank of india\"\n",
    "doc = nlp(test_text)\n",
    "for ent in doc.ents:\n",
    "    print(ent)\n",
    "    print(ent.text, ent.label_)"
   ]
  },
  {
   "cell_type": "code",
   "execution_count": 30,
   "metadata": {},
   "outputs": [],
   "source": [
    "# Test the trained model\n",
    "test_text = \"funds transfer debit landcraft developers\"\n",
    "doc = nlp(test_text)\n",
    "for ent in doc.ents:\n",
    "    print(ent)\n",
    "    print(ent.text, ent.label_)"
   ]
  },
  {
   "cell_type": "code",
   "execution_count": null,
   "metadata": {},
   "outputs": [],
   "source": []
  }
 ],
 "metadata": {
  "kernelspec": {
   "display_name": "Python 3",
   "language": "python",
   "name": "python3"
  },
  "language_info": {
   "codemirror_mode": {
    "name": "ipython",
    "version": 3
   },
   "file_extension": ".py",
   "mimetype": "text/x-python",
   "name": "python",
   "nbconvert_exporter": "python",
   "pygments_lexer": "ipython3",
   "version": "3.10.8"
  }
 },
 "nbformat": 4,
 "nbformat_minor": 2
}
